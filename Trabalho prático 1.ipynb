{
 "cells": [
  {
   "cell_type": "markdown",
   "metadata": {},
   "source": [
    "# Trabalho Prático 1 - Aprendizado de Máquina\n",
    "\n",
    "#### Universidade Federal de Minas Gerais\n",
    "#### Ramon Gonçalves Gonze\n",
    "#### 22 de maio de 2019"
   ]
  },
  {
   "cell_type": "markdown",
   "metadata": {},
   "source": [
    "## Instruções de uso\n",
    "\n",
    "- A base de dados (koi_data.csv) deve estar no mesmo diretório deste notebook.\n",
    "- As células devem ser executadas sequencialmente, da primeira à última.\n",
    "- Tempo médio esperado de execução:"
   ]
  },
  {
   "cell_type": "code",
   "execution_count": 1,
   "metadata": {},
   "outputs": [],
   "source": [
    "import numpy as np\n",
    "import pandas as pd\n",
    "from sklearn.naive_bayes import GaussianNB\n",
    "from sklearn.model_selection import train_test_split\n",
    "import sklearn as sk\n",
    "import matplotlib.pyplot as plt"
   ]
  },
  {
   "cell_type": "markdown",
   "metadata": {},
   "source": [
    "## Pré-processamento"
   ]
  },
  {
   "cell_type": "code",
   "execution_count": 2,
   "metadata": {},
   "outputs": [],
   "source": [
    "# Leitura da base de dados \n",
    "data = pd.read_csv(\"koi_data.csv\")\n",
    "data = data.drop(columns=[\"kepoi_name\"])\n",
    "\n",
    "# Normaliza os dados\n",
    "XTemp = data.iloc[:,1:data.shape[1]]\n",
    "XTemp = (XTemp - XTemp.mean())/XTemp.std()\n",
    "data.iloc[:,1:data.shape[1]] = XTemp\n",
    "\n",
    "# Mapeia CONFIRMED para 1, e FALSE POSITIVE para 0\n",
    "data[\"koi_disposition\"] = data[\"koi_disposition\"].apply(lambda x: 1 if x == \"CONFIRMED\" else 0)\n",
    "\n",
    "# Separação do conjunto de treino e teste\n",
    "porcentagemTeste = 0.2\n",
    "treino, teste = train_test_split(data, test_size=porcentagemTeste)\n",
    "\n",
    "# Separa as features das saídas\n",
    "treinoX = treino.drop(columns=[\"koi_disposition\"])\n",
    "treinoY = treino[\"koi_disposition\"]\n",
    "\n",
    "testeX = teste.drop(columns=[\"koi_disposition\"])\n",
    "testeY = teste[\"koi_disposition\"]"
   ]
  },
  {
   "cell_type": "markdown",
   "metadata": {},
   "source": [
    "---\n",
    "# Algoritmos\n",
    "\n",
    "Para avaliar os algoritmos abaixo, considere as seguintes definições:\n",
    "- $X = \\{x_1,\\ldots, x_n\\}$: O cojunto de exemplos (onde $n$ é a quantidade de exemplos);\n",
    "- $Y = \\{y_1,\\ldots, y_n\\}$: O conjunto de saídas (onde $y_i = 1$ se o exemplo $i$ é um exoplaneta e $y_i = 0$ se o exemplo $i$ não é um exoplaneta);\n",
    "- $F = \\{f_1,\\ldots, f_m\\}$: O conjunto de features (onde $m$ é a quantidade de features.\n",
    "---\n",
    "\n"
   ]
  },
  {
   "cell_type": "markdown",
   "metadata": {},
   "source": [
    "## Naive Bayes"
   ]
  },
  {
   "cell_type": "markdown",
   "metadata": {},
   "source": [
    "O algoritmo de Naive Bayes estima uma distribuição de probabilidade para a classificação. Isto é, dado um conjunto de exemplos, são computadas todas as probabilidades condicionais de exemplos e saídas.\n",
    "\n",
    "Como todas as features possuem valores contínuos, foi considerado que cada feature segue uma distribuição normal. Neste caso, a probabilidade condicional de um feature $f_i$ assumir um valor $v$ dado que a saída é $y_i$ é:\n",
    "\n",
    "<center fontsize=30><font size=\"5\">\n",
    "$p(f_i = v|y_i) = \\frac{1}{\\sqrt{2\\pi{\\sigma_{y_i}^2}}}e^{\\frac{(v-\\mu_{y_i})^2}{2\\sigma_{y_i}^2}}$\n",
    "    </font></center>\n",
    "    \n",
    "onde $\\mu_{y_i}$ é a média dos valores de $f_i$ associados com $y_i$ e $\\sigma_{y_i}^2$ é a variância dos valores de $f_i$ associados com $y_i$."
   ]
  },
  {
   "cell_type": "code",
   "execution_count": 3,
   "metadata": {},
   "outputs": [
    {
     "data": {
      "text/plain": [
       "0.9135446685878963"
      ]
     },
     "execution_count": 3,
     "metadata": {},
     "output_type": "execute_result"
    }
   ],
   "source": [
    "modelo = GaussianNB()\n",
    "modelo.fit(treinoX, treinoY)\n",
    "saidas = modelo.predict(testeX)\n",
    "\n",
    "acuracia = 1 - (sum(saidas ^ testeY)/len(saidas))\n",
    "acuracia"
   ]
  },
  {
   "cell_type": "markdown",
   "metadata": {},
   "source": [
    "## Decision Tree"
   ]
  },
  {
   "cell_type": "code",
   "execution_count": null,
   "metadata": {},
   "outputs": [],
   "source": []
  },
  {
   "cell_type": "markdown",
   "metadata": {},
   "source": [
    "## Support Vector Machines"
   ]
  },
  {
   "cell_type": "code",
   "execution_count": null,
   "metadata": {},
   "outputs": [],
   "source": []
  },
  {
   "cell_type": "markdown",
   "metadata": {},
   "source": [
    "## K Nearest Neighboor"
   ]
  },
  {
   "cell_type": "code",
   "execution_count": null,
   "metadata": {},
   "outputs": [],
   "source": []
  },
  {
   "cell_type": "markdown",
   "metadata": {},
   "source": [
    "## Random Forest"
   ]
  },
  {
   "cell_type": "code",
   "execution_count": null,
   "metadata": {},
   "outputs": [],
   "source": []
  },
  {
   "cell_type": "markdown",
   "metadata": {},
   "source": [
    "## Gradient Tree Boosting"
   ]
  },
  {
   "cell_type": "code",
   "execution_count": null,
   "metadata": {},
   "outputs": [],
   "source": []
  }
 ],
 "metadata": {
  "kernelspec": {
   "display_name": "Python 3",
   "language": "python",
   "name": "python3"
  },
  "language_info": {
   "codemirror_mode": {
    "name": "ipython",
    "version": 3
   },
   "file_extension": ".py",
   "mimetype": "text/x-python",
   "name": "python",
   "nbconvert_exporter": "python",
   "pygments_lexer": "ipython3",
   "version": "3.7.1"
  }
 },
 "nbformat": 4,
 "nbformat_minor": 2
}
