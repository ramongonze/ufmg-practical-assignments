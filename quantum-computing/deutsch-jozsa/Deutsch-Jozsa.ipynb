{
 "cells": [
  {
   "cell_type": "markdown",
   "metadata": {},
   "source": [
    "# Trabalho Prático 1 - Algoritmo de Deutsch-Jozsa\n",
    "### Ramon Gonçalves Gonze\n",
    "---"
   ]
  },
  {
   "cell_type": "markdown",
   "metadata": {},
   "source": [
    "O algoritmo de Deutsch-Jozsa é utilizado pra verificar se uma função $f \\{0,1\\}^n \\rightarrow \\{0, 1\\}$, onde sua saída é igual a $0$ se a função é balanceada ou igual a $1$ caso contrário. O circuito, composto por $n+1$ qubits, é dividido de 5 partes:\n",
    "\n",
    "- Inicialização dos $n$ primeiros qubits em $|0>$ e o ($n+1$)-ésimo qubit em $|1>$;\n",
    "- Sobreposição de todos os qubits através da aplicação da Hadamard;\n",
    "- Aplicação do oráculo (matriz $U_f$);\n",
    "- Aplicação da Hadamard nos $n$ primeiros qubits;\n",
    "- Medição dos $n$ primeiros qubits\n",
    "\n",
    "Se a função for **constante**, o estado dos $n$ primeiros qubits será $|0...0>$.\n",
    "\n",
    "Se a função for **balanceada**, será medido algum estado **diferente** de $|0...0>$."
   ]
  },
  {
   "cell_type": "code",
   "execution_count": 1,
   "metadata": {},
   "outputs": [],
   "source": [
    "import numpy as np\n",
    "from math import ceil, log2\n",
    "from qiskit import *\n",
    "\n",
    "from qiskit import IBMQ, BasicAer\n",
    "from qiskit.providers.ibmq import least_busy\n",
    "from qiskit import QuantumCircuit, ClassicalRegister, QuantumRegister, execute\n",
    "from qiskit.tools.visualization import plot_histogram\n",
    "from qiskit.tools.monitor import job_monitor"
   ]
  },
  {
   "cell_type": "markdown",
   "metadata": {},
   "source": [
    "---\n",
    "# Inicialização de variáveis\n",
    "---"
   ]
  },
  {
   "cell_type": "code",
   "execution_count": 2,
   "metadata": {},
   "outputs": [
    {
     "name": "stdout",
     "output_type": "stream",
     "text": [
      "Bits = 10\n"
     ]
    }
   ],
   "source": [
    "# Número de qubits\n",
    "n = 4\n",
    "\n",
    "# Oráculo quântico. Decide se a função é balanceada ou constante.\n",
    "oraculo = 'balanced' # Deve ser {'balanced', 'constant'}\n",
    "\n",
    "if oraculo == 'balanced':\n",
    "    # Estado final do sistema, no final do circuito\n",
    "    bits = np.random.randint(1, 2**n)\n",
    "else:\n",
    "    # Se a função é balanceada, 'bits' indica se a função é balanceada com zeros ou uns.\n",
    "    bits = 0 # Deve ser {0,1}.\n",
    "\n",
    "print('Bits = %d'%(bits))\n",
    "    \n",
    "# Cria um circuito com n+1 qubits e n-1 bits clássicos (esses usados para armazenar as medições).\n",
    "circuito = QuantumCircuit(n+1, n)"
   ]
  },
  {
   "cell_type": "markdown",
   "metadata": {},
   "source": [
    "---\n",
    "# Construção do circuito\n",
    "---"
   ]
  },
  {
   "cell_type": "code",
   "execution_count": 3,
   "metadata": {},
   "outputs": [
    {
     "data": {
      "text/plain": [
       "<qiskit.circuit.instructionset.InstructionSet at 0x7f81ba50fcf8>"
      ]
     },
     "execution_count": 3,
     "metadata": {},
     "output_type": "execute_result"
    }
   ],
   "source": [
    "# Transforma o n-ésimo bit em |1>\n",
    "circuito.x(n)\n",
    "\n",
    "circuito.barrier()\n",
    "\n",
    "# Aplica Hadamard em todos os qubits\n",
    "circuito.h(np.arange(n+1))\n",
    "    \n",
    "circuito.barrier()\n",
    "\n",
    "# Aplica o oráculo nos estados, que estão em superposição\n",
    "if oraculo == 'balanced':\n",
    "    bitsStr = bin(bits)[2:]\n",
    "    bitsStr = '0'*(n-len(bitsStr)) + bitsStr\n",
    "    \n",
    "    # Adiciona CNOTS no último qubit, de acordo com a string de bits definida na variável 'bits'\n",
    "    for i in np.arange(len(bitsStr)):\n",
    "        if bitsStr[i] == '1':\n",
    "            circuito.cx(n-i-1, n)\n",
    "\n",
    "circuito.barrier()\n",
    "\n",
    "# Aplica Hadamard em todos os qubits, exceto o último\n",
    "circuito.h(np.arange(n))\n",
    "\n",
    "circuito.barrier()\n",
    "\n",
    "# Faz uma medição nos n-1 primeiros qubits\n",
    "circuito.measure(np.arange(n), np.arange(n))    "
   ]
  },
  {
   "cell_type": "markdown",
   "metadata": {},
   "source": [
    "---\n",
    "# Visualização do circuito\n",
    "---"
   ]
  },
  {
   "cell_type": "markdown",
   "metadata": {},
   "source": [
    "É possível ver as 5 partes do circuito descritas anteriormente separadas pelas \"barreiras\" em cinza."
   ]
  },
  {
   "cell_type": "code",
   "execution_count": 4,
   "metadata": {},
   "outputs": [
    {
     "data": {
      "image/png": "[encoded data removed]",
      "text/plain": [
       "<Figure size 939.12x385.28 with 1 Axes>"
      ]
     },
     "execution_count": 4,
     "metadata": {},
     "output_type": "execute_result"
    }
   ],
   "source": [
    "circuito.draw(output='mpl')"
   ]
  },
  {
   "cell_type": "markdown",
   "metadata": {},
   "source": [
    "---\n",
    "# Simulação do experimento\n",
    "---"
   ]
  },
  {
   "cell_type": "markdown",
   "metadata": {},
   "source": [
    "## Computador clássico"
   ]
  },
  {
   "cell_type": "markdown",
   "metadata": {},
   "source": [
    "A simulação em um computador clássico é perfeita, isto é, podemos ver 100% de probabilidade de medição para um estado somente, sem ruído algum."
   ]
  },
  {
   "cell_type": "code",
   "execution_count": 5,
   "metadata": {},
   "outputs": [],
   "source": [
    "nSimulacoes = 10000 # Número de simulações\n",
    "simulador = Aer.get_backend('qasm_simulator')\n",
    "resultado = execute(circuito, backend=simulador, shots=nSimulacoes).result()"
   ]
  },
  {
   "cell_type": "code",
   "execution_count": 6,
   "metadata": {},
   "outputs": [
    {
     "data": {
      "image/png": "[encoded data removed]",
      "text/plain": [
       "<Figure size 504x360 with 1 Axes>"
      ]
     },
     "execution_count": 6,
     "metadata": {},
     "output_type": "execute_result"
    }
   ],
   "source": [
    "medicoes = resultado.get_counts()\n",
    "plot_histogram(medicoes)"
   ]
  },
  {
   "cell_type": "markdown",
   "metadata": {},
   "source": [
    "## Computador quântico - IBMQ"
   ]
  },
  {
   "cell_type": "markdown",
   "metadata": {},
   "source": [
    "A simulação retorna uma \"execução\" perfeita, isto é, 100% de probabilidade de medir um certo estado. Já em um computador quântico, devemos considerar ruídos e erros de medição.\n",
    "\n",
    "**Observação: Tentei executar em um dos computadores quânticos da IBM, porém o job ficou em espera durante muito tempo, e não foi possível executá-lo a tempo da entrega.**\n",
    "\n",
    "Para executar os códigos abaixo é necessário executar antes as funções *IBMQ.save_account()* e *IBMQ.load_account()*."
   ]
  },
  {
   "cell_type": "code",
   "execution_count": null,
   "metadata": {},
   "outputs": [],
   "source": [
    "provider = IBMQ.get_provider('ibm-q')\n",
    "qcomp = provider.get_backend('ibmq_ourense')"
   ]
  },
  {
   "cell_type": "code",
   "execution_count": null,
   "metadata": {},
   "outputs": [],
   "source": [
    "job = execute(circuit, backend=qcomp)\n",
    "job_monitor(job)"
   ]
  },
  {
   "cell_type": "code",
   "execution_count": null,
   "metadata": {},
   "outputs": [],
   "source": [
    "resultado = job.result()\n",
    "plot_histogram(resultado.get_counts(circuit))"
   ]
  }
 ],
 "metadata": {
  "kernelspec": {
   "display_name": "Python 3",
   "language": "python",
   "name": "python3"
  },
  "language_info": {
   "codemirror_mode": {
    "name": "ipython",
    "version": 3
   },
   "file_extension": ".py",
   "mimetype": "text/x-python",
   "name": "python",
   "nbconvert_exporter": "python",
   "pygments_lexer": "ipython3",
   "version": "3.5.3"
  }
 },
 "nbformat": 4,
 "nbformat_minor": 2
}
