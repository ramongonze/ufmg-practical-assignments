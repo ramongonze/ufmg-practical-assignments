{
 "cells": [
  {
   "cell_type": "markdown",
   "metadata": {},
   "source": [
    "# Trabalho Prático 1 - Aprendizado de Máquina\n",
    "\n",
    "#### Universidade Federal de Minas Gerais\n",
    "#### Ramon Gonçalves Gonze\n",
    "#### 22 de maio de 2019"
   ]
  },
  {
   "cell_type": "markdown",
   "metadata": {},
   "source": [
    "## Instruções de uso\n",
    "\n",
    "- A base de dados (koi_data.csv) deve estar no mesmo diretório deste notebook.\n",
    "- As células devem ser executadas sequencialmente, da primeira à última.\n",
    "- Tempo médio esperado de execução em um computador com um i5, 3.4GHz, 8GB RAM: 35min"
   ]
  },
  {
   "cell_type": "code",
   "execution_count": 31,
   "metadata": {},
   "outputs": [],
   "source": [
    "from math import floor\n",
    "import numpy as np\n",
    "import pandas as pd\n",
    "from sklearn import *\n",
    "import matplotlib.pyplot as plt"
   ]
  },
  {
   "cell_type": "markdown",
   "metadata": {},
   "source": [
    "## Pré-processamento"
   ]
  },
  {
   "cell_type": "code",
   "execution_count": 32,
   "metadata": {},
   "outputs": [],
   "source": [
    "# Sed a seed\n",
    "np.random.seed(2016058581)\n",
    "\n",
    "# Read the dataset\n",
    "data = pd.read_csv(\"koi_data.csv\")\n",
    "data = data.drop(columns=[\"kepoi_name\"])\n",
    "\n",
    "# Normalize the data\n",
    "XTemp = data.iloc[:,1:data.shape[1]]\n",
    "XTemp = (XTemp - XTemp.mean())/XTemp.std()\n",
    "data.iloc[:,1:data.shape[1]] = XTemp\n",
    "\n",
    "# Maps \"CONFIRMED\" to 1 and \"FALSE POSITIVE\" to 0\n",
    "data[\"koi_disposition\"] = data[\"koi_disposition\"].apply(lambda x: 1 if x == \"CONFIRMED\" else 0)\n",
    "\n",
    "# K-Fold, with K = 5.\n",
    "features = data.columns\n",
    "data = np.array(data)\n",
    "np.random.shuffle(data)\n",
    "folds = [pd.DataFrame(x, columns=features) for x in np.array_split(data, 5)]\n",
    "\n",
    "# Split the dataset in examples and classes (exoplanet or not)\n",
    "foldsX, foldsY = [], []\n",
    "for c in folds:\n",
    "    foldsX += [c.drop(columns=\"koi_disposition\")]\n",
    "    foldsY += [c[\"koi_disposition\"]]\n",
    "    \n",
    "del folds, data"
   ]
  },
  {
   "cell_type": "markdown",
   "metadata": {},
   "source": [
    "---\n",
    "## Funções"
   ]
  },
  {
   "cell_type": "code",
   "execution_count": 33,
   "metadata": {},
   "outputs": [],
   "source": [
    "def crossValidation(model, foldsX, foldsY):\n",
    "    \"\"\"\n",
    "        This function takes a model (from sklearn) and folds from a K-Fold method.\n",
    "        The cross validation is to apply a train in n-1 folds (where n is the number of folds)\n",
    "        and use the model to predict in 1 fold.\n",
    "        The train and test are made for every fold in 'foldsX', and the accuracy of each iteration is kept.\n",
    "        \n",
    "        ---\n",
    "        Parameters:\n",
    "        - model: Model from sklearn\n",
    "        - foldsX: A list of DataFrames, where each element is a training set.\n",
    "        - foldsY: A list of pandas Series, where each element is the class of a training set.\n",
    "        \n",
    "        ---\n",
    "        Return:\n",
    "        The mean of accuracy.\n",
    "    \"\"\"\n",
    "    \n",
    "    accuracy = []\n",
    "    for f in range(len(foldsX)):\n",
    "        testX = foldsX[f].copy()\n",
    "        testY = foldsY[f].copy()\n",
    "        \n",
    "        trainX = foldsX.copy()\n",
    "        trainX.pop(f)\n",
    "        trainY = foldsY.copy()\n",
    "        trainY.pop(f)\n",
    "        \n",
    "        model.fit(pd.concat(trainX), pd.concat(trainY))\n",
    "        prediction = model.predict(testX)\n",
    "        \n",
    "        accuracy += [metrics.accuracy_score(testY, prediction)]\n",
    "        \n",
    "    return np.array(accuracy).mean()"
   ]
  },
  {
   "cell_type": "code",
   "execution_count": 34,
   "metadata": {},
   "outputs": [],
   "source": [
    "def setLegends(title, xlabel, xmin, xmax):\n",
    "    \"\"\"\n",
    "        Set legends to plot a graph.\n",
    "        \n",
    "        ---\n",
    "        Parameters:\n",
    "        - title: Title of the graph\n",
    "        - xlabel = x-axis label\n",
    "        - xmin: min x-axis value to plot the horizontal line of the baseline.\n",
    "        - xmax: max x-axis value to plot the horizontal line of the baseline.\n",
    "    \"\"\"\n",
    "    \n",
    "    plt.title(title)\n",
    "    plt.xlabel(xlabel)\n",
    "    plt.ylabel(\"Accuracy\")\n",
    "    plt.hlines(bestModels['Naive Bayes'], xmin, xmax, linestyles='dashed', color='black', label='Baseline')"
   ]
  },
  {
   "cell_type": "markdown",
   "metadata": {},
   "source": [
    "---\n",
    "# Algoritmos\n",
    "\n",
    "Para avaliar os algoritmos abaixo, considere as seguintes definições:\n",
    "- $X = \\{x_1,\\ldots, x_n\\}$: O cojunto de exemplos (onde $n$ é a quantidade de exemplos);\n",
    "- $Y = \\{y_1,\\ldots, y_n\\}$: O conjunto de saídas (onde $y_i = 1$ se o exemplo $i$ é um exoplaneta e $y_i = 0$ se o exemplo $i$ não é um exoplaneta);\n",
    "- $F = \\{f_1,\\ldots, f_m\\}$: O conjunto de features (onde $m$ é a quantidade de features.\n"
   ]
  },
  {
   "cell_type": "code",
   "execution_count": 35,
   "metadata": {},
   "outputs": [],
   "source": [
    "# Best accuracy achieved using all methods\n",
    "bestModels = {}"
   ]
  },
  {
   "cell_type": "markdown",
   "metadata": {},
   "source": [
    "---\n",
    "## Naive Bayes"
   ]
  },
  {
   "cell_type": "markdown",
   "metadata": {},
   "source": [
    "O algoritmo de Naive Bayes estima uma distribuição de probabilidade para a classificação, isto é, dado um conjunto de exemplos, são computadas todas as probabilidades condicionais de exemplos e saídas.\n",
    "\n",
    "Como todas as features possuem valores contínuos, foi considerado que cada feature segue uma distribuição normal. Neste caso, a probabilidade condicional de um feature $f_i$ assumir um valor $v$ dado que a saída é $y_i \\in Y$, é igual a:\n",
    "\n",
    "<center fontsize=30><font size=\"5\">\n",
    "$p(f_i = v|y_i) = \\frac{1}{\\sqrt{2\\pi{\\sigma_{y_i}^2}}}e^{\\frac{(v-\\mu_{y_i})^2}{2\\sigma_{y_i}^2}}$\n",
    "    </font></center>\n",
    "    \n",
    "onde $\\mu_{y_i}$ é a média dos valores de $f_i$ associados com $y_i$ e $\\sigma_{y_i}^2$ é a variância dos valores de $f_i$ associados com $y_i$."
   ]
  },
  {
   "cell_type": "code",
   "execution_count": 36,
   "metadata": {},
   "outputs": [
    {
     "name": "stdout",
     "output_type": "stream",
     "text": [
      "Acurácia do Naive Bayes: 0.916189\n"
     ]
    }
   ],
   "source": [
    "model = naive_bayes.GaussianNB()\n",
    "bestModels['Naive Bayes'] = (crossValidation(model, foldsX, foldsY), model)\n",
    "print('Acurácia do Naive Bayes: %f'%(bestModels['Naive Bayes']))"
   ]
  },
  {
   "cell_type": "markdown",
   "metadata": {},
   "source": [
    "---\n",
    "## Decision Tree"
   ]
  },
  {
   "cell_type": "markdown",
   "metadata": {},
   "source": [
    "Árvores de decisão buscam encontrar, para cada feature de um conjunto de dados, um valor que consegue separar da melhor forma o conjunto de dados, isto é, minimizando a soma das entropia dos novos conjuntos. A complexidade do modelo cresce conforme a altura da árvore. "
   ]
  },
  {
   "cell_type": "code",
   "execution_count": 37,
   "metadata": {},
   "outputs": [
    {
     "data": {
      "image/png": "[encoded data removed]",
      "text/plain": [
       "<Figure size 432x288 with 1 Axes>"
      ]
     },
     "metadata": {
      "needs_background": "light"
     },
     "output_type": "display_data"
    }
   ],
   "source": [
    "accuracy = []\n",
    "xmin, xmax = 1, 51\n",
    "bestAcc, bestM = -1, -1\n",
    "for depth in range(xmin, xmax):\n",
    "    model = tree.DecisionTreeClassifier(max_depth=depth)\n",
    "    accuracy += [crossValidation(model, foldsX, foldsY)]\n",
    "\n",
    "    if bestAcc < accuracy[-1]:\n",
    "        bestAcc = accuracy[-1]\n",
    "        bestM = model\n",
    "        \n",
    "setLegends('Accuracy using Decision Tree', 'Tree depth', xmin, xmax)\n",
    "                               \n",
    "maxAccuracy = max(accuracy)\n",
    "maxAccuracyIndex = xmin + accuracy.index(maxAccuracy)\n",
    "                               \n",
    "X = list(range(xmin, xmax))\n",
    "\n",
    "plt.scatter(maxAccuracyIndex, maxAccuracy, color='red', label=\"Max accuracy: %f\"%(maxAccuracy))\n",
    "plt.plot(X, accuracy, color='royalblue')\n",
    "                               \n",
    "model = tree.DecisionTreeClassifier(max_depth=None)\n",
    "accuracyNone = crossValidation(model, foldsX, foldsY)\n",
    "plt.hlines(accuracyNone, label=\"No limit for depth: %f\"%(accuracyNone), xmin=xmin, xmax=xmax, color='green')\n",
    "plt.legend();\n",
    "                               \n",
    "bestModels['Decision Tree'] = (maxAccuracy, bestM)"
   ]
  },
  {
   "cell_type": "markdown",
   "metadata": {},
   "source": [
    "De acordo com o gráfico acima, podemos inferir que árvores muito simples (profundidade < 5) não conseguem generalizar bem os dados. Por outro lado, árvores com uma profundidade muito alta são muito complexas, não alcançando a melhor acurácia.\n",
    "\n",
    "A árvore com profundidade __8__ alcançou a melhor acurácia, de **0.953095**. Além disto, pode-se perceber que, a partir da profundidade = 20, o valor da acurácia começa a diminuir, indicando overfiting."
   ]
  },
  {
   "cell_type": "markdown",
   "metadata": {},
   "source": [
    "---\n",
    "## Support Vector Machines"
   ]
  },
  {
   "cell_type": "markdown",
   "metadata": {},
   "source": [
    "O método SVM se baseia no conceito de margem, isto é, modelos que possuem margem maiores são considerados melhores. A margem é a distância da curva (do modelo) até os pontos de classes distintas mais próximos.\n",
    "\n",
    "Um parâmetro para o método do SVM é o kernel. Esse pode ser entendido como a função que busca separar os pontos do dataset em uma nova dimensão. A utilização do kernel depende de como os dados estão dispostos no espaço.\n",
    "\n",
    "Neste trabalho foram testados 4 kernels: Linear, Sigmoid, Polinomial e Radial Basis function."
   ]
  },
  {
   "cell_type": "code",
   "execution_count": 39,
   "metadata": {},
   "outputs": [
    {
     "name": "stdout",
     "output_type": "stream",
     "text": [
      "Accuracy with linear kernel:     0.951748\n",
      "Accuracy with sigmoid kernel:    0.842555\n",
      "Accuracy with polinomial kernel: 0.879085\n",
      "Accuracy with RBF kernel:        0.936755\n"
     ]
    }
   ],
   "source": [
    "accuracy = []\n",
    "\n",
    "model = svm.SVC(kernel=\"linear\", gamma=\"scale\")\n",
    "accuracy += [crossValidation(model, foldsX, foldsY)]\n",
    "print(\"Accuracy with linear kernel:     %f\"%(accuracy[0]))\n",
    "bestAcc, bestM = accuracy[0], model\n",
    "\n",
    "\n",
    "model = svm.SVC(kernel=\"sigmoid\", gamma=\"scale\")\n",
    "accuracy += [crossValidation(model, foldsX, foldsY)]\n",
    "print(\"Accuracy with sigmoid kernel:    %f\"%(accuracy[1]))\n",
    "if bestAcc < accuracy[-1]:\n",
    "    bestAcc = accuracy[-1]\n",
    "    bestM = model\n",
    "\n",
    "model = svm.SVC(kernel=\"poly\", gamma=\"scale\")\n",
    "accuracy += [crossValidation(model, foldsX, foldsY)]\n",
    "print(\"Accuracy with polinomial kernel: %f\"%(accuracy[2]))\n",
    "if bestAcc < accuracy[-1]:\n",
    "    bestAcc = accuracy[-1]\n",
    "    bestM = model\n",
    "        \n",
    "model = svm.SVC(kernel=\"rbf\", gamma=\"scale\")\n",
    "accuracy += [crossValidation(model, foldsX, foldsY)]\n",
    "print(\"Accuracy with RBF kernel:        %f\"%(accuracy[3]))\n",
    "if bestAcc < accuracy[-1]:\n",
    "    bestAcc = accuracy[-1]\n",
    "    bestM = model\n",
    "\n",
    "maxAccuracy = max(accuracy)\n",
    "maxAccuracyIndex = 1 + accuracy.index(maxAccuracy)\n",
    "\n",
    "bestModels['SVM'] = (maxAccuracy, bestM)"
   ]
  },
  {
   "cell_type": "markdown",
   "metadata": {},
   "source": [
    "O kernel que consegue separar os dados da melhor forma é o linear, que alcançou a acurácia de **0.951748**."
   ]
  },
  {
   "cell_type": "markdown",
   "metadata": {},
   "source": [
    "---\n",
    "## K Nearest Neighboor"
   ]
  },
  {
   "cell_type": "markdown",
   "metadata": {},
   "source": [
    "O método dos K vizinhos mais próximos se baseia na ideia de inferir a classe de um ponto baseando-se na classe dos k pontos mais próximos a ele. Há dois parâmetros principais no KNN: A função que calculará a distância entre dois pontos e a função que irá predizer a classe de um ponto, de acordo com a classe dos vizinhos.\n",
    "\n",
    "Neste trabalho foi utilizada a distância euclidiana como métrica de distância entre pontos, e para predizer a classe de um ponto, os pesos de cada vizinho deste foram proporcionais ao inverso da distância do vizinho ao ponto em questão."
   ]
  },
  {
   "cell_type": "code",
   "execution_count": 41,
   "metadata": {},
   "outputs": [
    {
     "data": {
      "image/png": "[encoded data removed]",
      "text/plain": [
       "<Figure size 432x288 with 1 Axes>"
      ]
     },
     "metadata": {
      "needs_background": "light"
     },
     "output_type": "display_data"
    }
   ],
   "source": [
    "accuracy = []\n",
    "xmin, xmax = 1, 51\n",
    "bestAcc, bestM = -1, -1\n",
    "for k in range(xmin, xmax):\n",
    "    model = neighbors.KNeighborsClassifier(n_neighbors=k, weights=\"distance\")\n",
    "    accuracy += [crossValidation(model, foldsX, foldsY)]\n",
    "    \n",
    "    if bestAcc < accuracy[-1]:\n",
    "        bestAcc = accuracy[-1]\n",
    "        bestM = model\n",
    "\n",
    "setLegends('Accuracy using KNN', 'K', xmin, xmax)\n",
    "                               \n",
    "maxAccuracy = max(accuracy)\n",
    "maxAccuracyIndex = xmin + accuracy.index(maxAccuracy)\n",
    "                               \n",
    "X = list(range(xmin, xmax))\n",
    "\n",
    "plt.scatter(maxAccuracyIndex, maxAccuracy, color='red', label=\"Max accuracy: %f\"%(maxAccuracy))\n",
    "plt.plot(X, accuracy, color='royalblue')\n",
    "plt.legend();\n",
    "\n",
    "bestModels['KNN'] = (maxAccuracy, bestM)"
   ]
  },
  {
   "cell_type": "markdown",
   "metadata": {},
   "source": [
    "A curva do gráfico acima nos revela uma piora na acurácia com valores altos para k, a partir de k = 8.\n",
    "Isso poderia ser explicado pelo fato de que, em casos onde o ponto que se quer prever a classe se encontra em uma região próxima a pontos das duas classes, a inferência da classe deste será feita com muitos pontos de ambas as classes, o que se mostrou não muito eficiente.\n",
    "\n",
    "A melhor acurácia alcançada foi de **0.899460**, com **k = 4**."
   ]
  },
  {
   "cell_type": "markdown",
   "metadata": {},
   "source": [
    "---\n",
    "## Random Forest"
   ]
  },
  {
   "cell_type": "markdown",
   "metadata": {},
   "source": [
    "A ideia principal do Random Forest é similar a ideia do Boosting: Através de um boostrap construímos conjuntos $D_1, \\ldots\\ D_m$ a partir do conjunto original $D$. A diferença para o Boosting é a ideia de treinar diversos modelos que são independentes, isto é, que utilizam features diferentes.\n",
    "\n",
    "Geralmente são utilizadas árvores de decisão para construir o modelo de cada $D_i$. Para treinar cada modelo foram removidas $\\sqrt{|F|}$ features aleatoriamente.\n",
    "\n",
    "Os hiperparâmetros considerados no Random Forest foram o número de árvores (isto é, $m$) e a profundidade de cada árvore. Foram realizados experimentos, e a altura da árvore que alcançou maior acurácia foi **12**."
   ]
  },
  {
   "cell_type": "code",
   "execution_count": 42,
   "metadata": {},
   "outputs": [
    {
     "data": {
      "image/png": "[encoded data removed]",
      "text/plain": [
       "<Figure size 432x288 with 1 Axes>"
      ]
     },
     "metadata": {
      "needs_background": "light"
     },
     "output_type": "display_data"
    }
   ],
   "source": [
    "accuracy = []\n",
    "xmin, xmax = 1, 31\n",
    "bestAcc, bestM = -1, -1\n",
    "for n_trees in range(xmin, xmax):\n",
    "    model = ensemble.RandomForestClassifier(n_estimators=n_trees, max_depth=12)\n",
    "    accuracy += [crossValidation(model, foldsX, foldsY)]\n",
    "\n",
    "    if bestAcc < accuracy[-1]:\n",
    "        bestAcc = accuracy[-1]\n",
    "        bestM = model\n",
    "        \n",
    "setLegends('Accuracy using Random Forest', 'Number of trees', xmin, xmax)\n",
    "                               \n",
    "maxAccuracy = max(accuracy)\n",
    "maxAccuracyIndex = xmin + accuracy.index(maxAccuracy)\n",
    "                               \n",
    "X = list(range(xmin, xmax))\n",
    "\n",
    "plt.scatter(maxAccuracyIndex, maxAccuracy, color='red', label=\"Max accuracy: %f\"%(maxAccuracy))\n",
    "plt.plot(X, accuracy, color='royalblue')\n",
    "plt.legend();\n",
    "\n",
    "bestModels['Random Forest'] = (maxAccuracy, bestM)"
   ]
  },
  {
   "cell_type": "markdown",
   "metadata": {},
   "source": [
    "O gráfico acima nos mostra que a acurácia do Random Forest segue uma curva logarítmica, e a partir de 10 árvores não há uma variância muito significativa na acurácia.\n",
    "\n",
    "A melhor acurácia alcançada foi de **0.969436**, com **24** árvores."
   ]
  },
  {
   "cell_type": "markdown",
   "metadata": {},
   "source": [
    "---\n",
    "## Gradient Tree Boosting"
   ]
  },
  {
   "cell_type": "markdown",
   "metadata": {},
   "source": [
    "A ideia do Boosting é construir um modelo forte a partir de modelos simples. Os modelos simples são chamados de *dumps*. O modelo final é melhorado por meio de *rounds*, onde em cada round é se cria um dump e atribui um peso maior aos exemplos que foram classificados erroneamente. \n",
    "\n",
    "Por consequência, o número de rounds é o parâmetro variado neste experimento. Foram analisados modelos com 50 rounds até modelos com 300 rounds."
   ]
  },
  {
   "cell_type": "code",
   "execution_count": 45,
   "metadata": {},
   "outputs": [
    {
     "ename": "KeyboardInterrupt",
     "evalue": "",
     "output_type": "error",
     "traceback": [
      "\u001b[0;31m---------------------------------------------------------------------------\u001b[0m",
      "\u001b[0;31mKeyboardInterrupt\u001b[0m                         Traceback (most recent call last)",
      "\u001b[0;32m<ipython-input-45-1c149300974c>\u001b[0m in \u001b[0;36m<module>\u001b[0;34m\u001b[0m\n\u001b[1;32m      3\u001b[0m \u001b[0;32mfor\u001b[0m \u001b[0mn_stages\u001b[0m \u001b[0;32min\u001b[0m \u001b[0mrange\u001b[0m\u001b[0;34m(\u001b[0m\u001b[0mxmin\u001b[0m\u001b[0;34m,\u001b[0m \u001b[0mxmax\u001b[0m\u001b[0;34m)\u001b[0m\u001b[0;34m:\u001b[0m\u001b[0;34m\u001b[0m\u001b[0;34m\u001b[0m\u001b[0m\n\u001b[1;32m      4\u001b[0m     \u001b[0mmodel\u001b[0m \u001b[0;34m=\u001b[0m \u001b[0mensemble\u001b[0m\u001b[0;34m.\u001b[0m\u001b[0mGradientBoostingClassifier\u001b[0m\u001b[0;34m(\u001b[0m\u001b[0mn_estimators\u001b[0m\u001b[0;34m=\u001b[0m\u001b[0mn_stages\u001b[0m\u001b[0;34m)\u001b[0m\u001b[0;34m\u001b[0m\u001b[0;34m\u001b[0m\u001b[0m\n\u001b[0;32m----> 5\u001b[0;31m     \u001b[0maccuracy\u001b[0m \u001b[0;34m+=\u001b[0m \u001b[0;34m[\u001b[0m\u001b[0mcrossValidation\u001b[0m\u001b[0;34m(\u001b[0m\u001b[0mmodel\u001b[0m\u001b[0;34m,\u001b[0m \u001b[0mfoldsX\u001b[0m\u001b[0;34m,\u001b[0m \u001b[0mfoldsY\u001b[0m\u001b[0;34m)\u001b[0m\u001b[0;34m]\u001b[0m\u001b[0;34m\u001b[0m\u001b[0;34m\u001b[0m\u001b[0m\n\u001b[0m\u001b[1;32m      6\u001b[0m \u001b[0;34m\u001b[0m\u001b[0m\n\u001b[1;32m      7\u001b[0m \u001b[0msetLegends\u001b[0m\u001b[0;34m(\u001b[0m\u001b[0;34m'Accuracy using Gradient Tree Boosting'\u001b[0m\u001b[0;34m,\u001b[0m \u001b[0;34m'Number of rounds'\u001b[0m\u001b[0;34m,\u001b[0m \u001b[0mxmin\u001b[0m\u001b[0;34m,\u001b[0m \u001b[0mxmax\u001b[0m\u001b[0;34m)\u001b[0m\u001b[0;34m\u001b[0m\u001b[0;34m\u001b[0m\u001b[0m\n",
      "\u001b[0;32m<ipython-input-33-c55311a86e1f>\u001b[0m in \u001b[0;36mcrossValidation\u001b[0;34m(model, foldsX, foldsY)\u001b[0m\n\u001b[1;32m     27\u001b[0m         \u001b[0mtrainY\u001b[0m\u001b[0;34m.\u001b[0m\u001b[0mpop\u001b[0m\u001b[0;34m(\u001b[0m\u001b[0mf\u001b[0m\u001b[0;34m)\u001b[0m\u001b[0;34m\u001b[0m\u001b[0;34m\u001b[0m\u001b[0m\n\u001b[1;32m     28\u001b[0m \u001b[0;34m\u001b[0m\u001b[0m\n\u001b[0;32m---> 29\u001b[0;31m         \u001b[0mmodel\u001b[0m\u001b[0;34m.\u001b[0m\u001b[0mfit\u001b[0m\u001b[0;34m(\u001b[0m\u001b[0mpd\u001b[0m\u001b[0;34m.\u001b[0m\u001b[0mconcat\u001b[0m\u001b[0;34m(\u001b[0m\u001b[0mtrainX\u001b[0m\u001b[0;34m)\u001b[0m\u001b[0;34m,\u001b[0m \u001b[0mpd\u001b[0m\u001b[0;34m.\u001b[0m\u001b[0mconcat\u001b[0m\u001b[0;34m(\u001b[0m\u001b[0mtrainY\u001b[0m\u001b[0;34m)\u001b[0m\u001b[0;34m)\u001b[0m\u001b[0;34m\u001b[0m\u001b[0;34m\u001b[0m\u001b[0m\n\u001b[0m\u001b[1;32m     30\u001b[0m         \u001b[0mprediction\u001b[0m \u001b[0;34m=\u001b[0m \u001b[0mmodel\u001b[0m\u001b[0;34m.\u001b[0m\u001b[0mpredict\u001b[0m\u001b[0;34m(\u001b[0m\u001b[0mtestX\u001b[0m\u001b[0;34m)\u001b[0m\u001b[0;34m\u001b[0m\u001b[0;34m\u001b[0m\u001b[0m\n\u001b[1;32m     31\u001b[0m \u001b[0;34m\u001b[0m\u001b[0m\n",
      "\u001b[0;32m~/anaconda3/lib/python3.7/site-packages/sklearn/ensemble/gradient_boosting.py\u001b[0m in \u001b[0;36mfit\u001b[0;34m(self, X, y, sample_weight, monitor)\u001b[0m\n\u001b[1;32m   1463\u001b[0m         n_stages = self._fit_stages(X, y, y_pred, sample_weight, self._rng,\n\u001b[1;32m   1464\u001b[0m                                     \u001b[0mX_val\u001b[0m\u001b[0;34m,\u001b[0m \u001b[0my_val\u001b[0m\u001b[0;34m,\u001b[0m \u001b[0msample_weight_val\u001b[0m\u001b[0;34m,\u001b[0m\u001b[0;34m\u001b[0m\u001b[0;34m\u001b[0m\u001b[0m\n\u001b[0;32m-> 1465\u001b[0;31m                                     begin_at_stage, monitor, X_idx_sorted)\n\u001b[0m\u001b[1;32m   1466\u001b[0m \u001b[0;34m\u001b[0m\u001b[0m\n\u001b[1;32m   1467\u001b[0m         \u001b[0;31m# change shape of arrays after fit (early-stopping or additional ests)\u001b[0m\u001b[0;34m\u001b[0m\u001b[0;34m\u001b[0m\u001b[0;34m\u001b[0m\u001b[0m\n",
      "\u001b[0;32m~/anaconda3/lib/python3.7/site-packages/sklearn/ensemble/gradient_boosting.py\u001b[0m in \u001b[0;36m_fit_stages\u001b[0;34m(self, X, y, y_pred, sample_weight, random_state, X_val, y_val, sample_weight_val, begin_at_stage, monitor, X_idx_sorted)\u001b[0m\n\u001b[1;32m   1527\u001b[0m             y_pred = self._fit_stage(i, X, y, y_pred, sample_weight,\n\u001b[1;32m   1528\u001b[0m                                      \u001b[0msample_mask\u001b[0m\u001b[0;34m,\u001b[0m \u001b[0mrandom_state\u001b[0m\u001b[0;34m,\u001b[0m \u001b[0mX_idx_sorted\u001b[0m\u001b[0;34m,\u001b[0m\u001b[0;34m\u001b[0m\u001b[0;34m\u001b[0m\u001b[0m\n\u001b[0;32m-> 1529\u001b[0;31m                                      X_csc, X_csr)\n\u001b[0m\u001b[1;32m   1530\u001b[0m \u001b[0;34m\u001b[0m\u001b[0m\n\u001b[1;32m   1531\u001b[0m             \u001b[0;31m# track deviance (= loss)\u001b[0m\u001b[0;34m\u001b[0m\u001b[0;34m\u001b[0m\u001b[0;34m\u001b[0m\u001b[0m\n",
      "\u001b[0;32m~/anaconda3/lib/python3.7/site-packages/sklearn/ensemble/gradient_boosting.py\u001b[0m in \u001b[0;36m_fit_stage\u001b[0;34m(self, i, X, y, y_pred, sample_weight, sample_mask, random_state, X_idx_sorted, X_csc, X_csr)\u001b[0m\n\u001b[1;32m   1192\u001b[0m             \u001b[0mX\u001b[0m \u001b[0;34m=\u001b[0m \u001b[0mX_csr\u001b[0m \u001b[0;32mif\u001b[0m \u001b[0mX_csr\u001b[0m \u001b[0;32mis\u001b[0m \u001b[0;32mnot\u001b[0m \u001b[0;32mNone\u001b[0m \u001b[0;32melse\u001b[0m \u001b[0mX\u001b[0m\u001b[0;34m\u001b[0m\u001b[0;34m\u001b[0m\u001b[0m\n\u001b[1;32m   1193\u001b[0m             tree.fit(X, residual, sample_weight=sample_weight,\n\u001b[0;32m-> 1194\u001b[0;31m                      check_input=False, X_idx_sorted=X_idx_sorted)\n\u001b[0m\u001b[1;32m   1195\u001b[0m \u001b[0;34m\u001b[0m\u001b[0m\n\u001b[1;32m   1196\u001b[0m             \u001b[0;31m# update tree leaves\u001b[0m\u001b[0;34m\u001b[0m\u001b[0;34m\u001b[0m\u001b[0;34m\u001b[0m\u001b[0m\n",
      "\u001b[0;32m~/anaconda3/lib/python3.7/site-packages/sklearn/tree/tree.py\u001b[0m in \u001b[0;36mfit\u001b[0;34m(self, X, y, sample_weight, check_input, X_idx_sorted)\u001b[0m\n\u001b[1;32m   1140\u001b[0m             \u001b[0msample_weight\u001b[0m\u001b[0;34m=\u001b[0m\u001b[0msample_weight\u001b[0m\u001b[0;34m,\u001b[0m\u001b[0;34m\u001b[0m\u001b[0;34m\u001b[0m\u001b[0m\n\u001b[1;32m   1141\u001b[0m             \u001b[0mcheck_input\u001b[0m\u001b[0;34m=\u001b[0m\u001b[0mcheck_input\u001b[0m\u001b[0;34m,\u001b[0m\u001b[0;34m\u001b[0m\u001b[0;34m\u001b[0m\u001b[0m\n\u001b[0;32m-> 1142\u001b[0;31m             X_idx_sorted=X_idx_sorted)\n\u001b[0m\u001b[1;32m   1143\u001b[0m         \u001b[0;32mreturn\u001b[0m \u001b[0mself\u001b[0m\u001b[0;34m\u001b[0m\u001b[0;34m\u001b[0m\u001b[0m\n\u001b[1;32m   1144\u001b[0m \u001b[0;34m\u001b[0m\u001b[0m\n",
      "\u001b[0;32m~/anaconda3/lib/python3.7/site-packages/sklearn/tree/tree.py\u001b[0m in \u001b[0;36mfit\u001b[0;34m(self, X, y, sample_weight, check_input, X_idx_sorted)\u001b[0m\n\u001b[1;32m    364\u001b[0m                                            min_impurity_split)\n\u001b[1;32m    365\u001b[0m \u001b[0;34m\u001b[0m\u001b[0m\n\u001b[0;32m--> 366\u001b[0;31m         \u001b[0mbuilder\u001b[0m\u001b[0;34m.\u001b[0m\u001b[0mbuild\u001b[0m\u001b[0;34m(\u001b[0m\u001b[0mself\u001b[0m\u001b[0;34m.\u001b[0m\u001b[0mtree_\u001b[0m\u001b[0;34m,\u001b[0m \u001b[0mX\u001b[0m\u001b[0;34m,\u001b[0m \u001b[0my\u001b[0m\u001b[0;34m,\u001b[0m \u001b[0msample_weight\u001b[0m\u001b[0;34m,\u001b[0m \u001b[0mX_idx_sorted\u001b[0m\u001b[0;34m)\u001b[0m\u001b[0;34m\u001b[0m\u001b[0;34m\u001b[0m\u001b[0m\n\u001b[0m\u001b[1;32m    367\u001b[0m \u001b[0;34m\u001b[0m\u001b[0m\n\u001b[1;32m    368\u001b[0m         \u001b[0;32mif\u001b[0m \u001b[0mself\u001b[0m\u001b[0;34m.\u001b[0m\u001b[0mn_outputs_\u001b[0m \u001b[0;34m==\u001b[0m \u001b[0;36m1\u001b[0m\u001b[0;34m:\u001b[0m\u001b[0;34m\u001b[0m\u001b[0;34m\u001b[0m\u001b[0m\n",
      "\u001b[0;31mKeyboardInterrupt\u001b[0m: "
     ]
    }
   ],
   "source": [
    "accuracy = []\n",
    "xmin, xmax = 50, 301\n",
    "bestAcc, bestM = -1, -1\n",
    "for n_stages in range(xmin, xmax):\n",
    "    model = ensemble.GradientBoostingClassifier(n_estimators=n_stages)\n",
    "    accuracy += [crossValidation(model, foldsX, foldsY)]\n",
    "\n",
    "    if bestAcc < accuracy[-1]:\n",
    "        bestAcc = accuracy[-1]\n",
    "        bestM = model\n",
    "        \n",
    "setLegends('Accuracy using Gradient Tree Boosting', 'Number of rounds', xmin, xmax)\n",
    "                               \n",
    "maxAccuracy = max(accuracy)\n",
    "maxAccuracyIndex = xmin + accuracy.index(maxAccuracy)\n",
    "                               \n",
    "X = list(range(xmin, xmax))\n",
    "\n",
    "plt.scatter(maxAccuracyIndex, maxAccuracy, color='red', label=\"Max accuracy: %f\"%(maxAccuracy))\n",
    "plt.plot(X, accuracy, color='royalblue')\n",
    "plt.legend();\n",
    "    \n",
    "bestModels['Gradient Tree Boosting'] = (maxAccuracy, bestM)"
   ]
  },
  {
   "cell_type": "markdown",
   "metadata": {},
   "source": [
    "A partir do gráfico acima é possível perceber que o algoritmo é bem robusto em relação ao overfiting, e isto é observado no crescente valor da acurácia conforme cresce o número de rounds.\n",
    "\n",
    "A melhor acurácia alcançada foi de **0.973089**, com **221** rounds."
   ]
  },
  {
   "cell_type": "markdown",
   "metadata": {},
   "source": [
    "---\n",
    "## Resultados"
   ]
  },
  {
   "cell_type": "markdown",
   "metadata": {},
   "source": [
    "Para o dataset em questão, alguns métodos se mostraram melhores que outros, como por exemplo o Random Forest e o Gradient Tree Boosting. O gráfico abaixo faz a comparação da acurácia alcançada por todos os métodos:"
   ]
  },
  {
   "cell_type": "code",
   "execution_count": 12,
   "metadata": {},
   "outputs": [
    {
     "data": {
      "image/png": "[encoded data removed]",
      "text/plain": [
       "<Figure size 432x288 with 1 Axes>"
      ]
     },
     "metadata": {
      "needs_background": "light"
     },
     "output_type": "display_data"
    }
   ],
   "source": [
    "methods = list(bestModels.keys())\n",
    "accuracy = [ac for ac,_ in bestModels.values()]\n",
    "\n",
    "plt.title(\"Comparison among the 6 methods\")\n",
    "plt.bar(methods, accuracy, width=0.6)\n",
    "plt.ylabel(\"Accuracy\")\n",
    "plt.xticks(range(len(accuracy)), methods, rotation=90)\n",
    "plt.ylim(0, 1.3)\n",
    "\n",
    "for i in range(len(accuracy)):\n",
    "    plt.text(i-0.35, accuracy[i]+0.05, \"%.4f\"%(accuracy[i]))"
   ]
  },
  {
   "cell_type": "markdown",
   "metadata": {},
   "source": [
    "### Análises - ROC, Precision e Recall"
   ]
  },
  {
   "cell_type": "code",
   "execution_count": null,
   "metadata": {},
   "outputs": [],
   "source": [
    "# Select one iteration from K-Fold\n",
    "trainX, trainY = foldsX.copy(), foldsY.copy()\n",
    "testX, testY = foldsX[0].copy(), foldsY[0].copy()\n",
    "trainX.pop(0); trainY.pop(0)\n",
    "trainX = pd.concat(trainX)\n",
    "trainY = pd.concat(trainY)\n",
    "\n",
    "precision, recall = [], []\n",
    "\n",
    "for method, values in bestModels.items():\n",
    "    model = values[1]\n",
    "    model.fit(trainX, trainY)\n",
    "    \n",
    "    predict = model.predict(testX)\n",
    "    probs = model.predict_proba(testX)[:,1]\n",
    "    fpr, tpr, _ = metrics.roc_curve(testY, probs)\n",
    "    \n",
    "    recall += [metrics.recall_score(testY, predict)]\n",
    "    precision += [metrics.precision_score(testY, predict)]\n",
    "    \n",
    "    plt.plot(fpr, tpr, label=method)\n",
    "\n",
    "plt.title('ROC Curve')\n",
    "plt.xlabel('False positive rate')\n",
    "plt.ylabel('True positive rate')\n",
    "plt.legend();"
   ]
  },
  {
   "cell_type": "code",
   "execution_count": null,
   "metadata": {},
   "outputs": [],
   "source": []
  }
 ],
 "metadata": {
  "kernelspec": {
   "display_name": "Python 3",
   "language": "python",
   "name": "python3"
  },
  "language_info": {
   "codemirror_mode": {
    "name": "ipython",
    "version": 3
   },
   "file_extension": ".py",
   "mimetype": "text/x-python",
   "name": "python",
   "nbconvert_exporter": "python",
   "pygments_lexer": "ipython3",
   "version": "3.7.1"
  }
 },
 "nbformat": 4,
 "nbformat_minor": 2
}
