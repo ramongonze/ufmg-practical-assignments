{
 "cells": [
  {
   "cell_type": "markdown",
   "metadata": {
    "deletable": false,
    "editable": false,
    "nbgrader": {
     "checksum": "3818e732a20a001b7ac976d05bebae38",
     "grade": false,
     "grade_id": "cellc-a00",
     "locked": true,
     "schema_version": 1,
     "solution": false
    }
   },
   "source": [
    "# Lista 07 - Comparando Classificadores"
   ]
  },
  {
   "cell_type": "markdown",
   "metadata": {
    "deletable": false,
    "editable": false,
    "nbgrader": {
     "checksum": "dcdf972c9ddb3c9fbec115bf5320ac5a",
     "grade": false,
     "grade_id": "cell1c-a00",
     "locked": true,
     "schema_version": 1,
     "solution": false
    }
   },
   "source": [
    "# Exercício 01:\n",
    "\n",
    "Analise o desempenho do kNN e de uma Regressão Logística Regularizada para **pelo menos um** dos conjuntos de dados abaixo:\n",
    "\n",
    "* [Avaliação de carros](http://archive.ics.uci.edu/ml/datasets/Car+Evaluation)\n",
    "* [Avaliação de vinhos](http://archive.ics.uci.edu/ml/datasets/Wine+Quality)\n",
    "* [Resultados de partidas do jogo Dota](http://archive.ics.uci.edu/ml/datasets/Dota2+Games+Results) (desafiador!)\n",
    "\n",
    "Para a questão, faça as seguintes tarefas:\n",
    "\n",
    "* Realize treino, validação e teste\n",
    "* Compare as métricas no teste\n",
    "* Reporte a precisão, revocação, F1 e a matriz de confusão\n",
    "\n",
    "Como já estamos no fim da matéria, você pode agora fazer uso da biblioteca scikit-learn. Afinal, no dia a dia, não implementamos tudo do zero. Abaixo temos os imports que vocês precisam. Leiam a API da biblioteca para saber como fazer uso da mesma."
   ]
  },
  {
   "cell_type": "code",
   "execution_count": null,
   "metadata": {
    "deletable": false,
    "editable": false,
    "nbgrader": {
     "checksum": "4cb9f28f98be7a7173df5ebc7409532e",
     "grade": false,
     "grade_id": "cell-2ce424d4b26d1b9b",
     "locked": true,
     "schema_version": 1,
     "solution": false
    }
   },
   "outputs": [],
   "source": [
    "from sklearn.linear_model import LogisticRegression\n",
    "\n",
    "from sklearn.metrics import confusion_matrix\n",
    "from sklearn.metrics import precision_recall_fscore_support\n",
    "\n",
    "from sklearn.neighbors import KNeighborsClassifier\n",
    "\n",
    "# Um fator importante é que o SKLearn não cria conjuntos de validação para você. Você tem algumas abordagens,\n",
    "# uma é realizar um novo split no treino. Outra é fazer uso de classificadores com CV no fim.\n",
    "# Tipo LogisticRegressionCV (ver na API). Por fim, você pode fazer uso da classe GridSearchCV.\n",
    "# Leia a documentação da mesma.\n",
    "from sklearn.model_selection import train_test_split"
   ]
  },
  {
   "cell_type": "code",
   "execution_count": null,
   "metadata": {
    "deletable": false,
    "nbgrader": {
     "checksum": "d018fd308b76554ff6d37bc9fe82404c",
     "grade": true,
     "grade_id": "cell1-a00",
     "locked": false,
     "points": 1,
     "schema_version": 1,
     "solution": true
    }
   },
   "outputs": [],
   "source": [
    "# YOUR CODE HERE\n",
    "raise NotImplementedError()"
   ]
  },
  {
   "cell_type": "markdown",
   "metadata": {
    "deletable": false,
    "editable": false,
    "nbgrader": {
     "checksum": "5326a71f95cf2bff0dc9e8fb2fccd7aa",
     "grade": false,
     "grade_id": "cell-05ec0cf892ddb34e",
     "locked": true,
     "schema_version": 1,
     "solution": false
    }
   },
   "source": [
    "Explique e discuta sobre os resultados encontrados no campo abaixo."
   ]
  },
  {
   "cell_type": "markdown",
   "metadata": {
    "deletable": false,
    "nbgrader": {
     "checksum": "d58eb343f731c93ba8580a101bf55781",
     "grade": true,
     "grade_id": "cell-ff948e4b04b506a6",
     "locked": false,
     "points": 1,
     "schema_version": 1,
     "solution": true
    }
   },
   "source": [
    "YOUR ANSWER HERE"
   ]
  }
 ],
 "metadata": {
  "kernelspec": {
   "display_name": "Python 3",
   "language": "python",
   "name": "python3"
  },
  "language_info": {
   "codemirror_mode": {
    "name": "ipython",
    "version": 3
   },
   "file_extension": ".py",
   "mimetype": "text/x-python",
   "name": "python",
   "nbconvert_exporter": "python",
   "pygments_lexer": "ipython3",
   "version": "3.7.1"
  }
 },
 "nbformat": 4,
 "nbformat_minor": 2
}
